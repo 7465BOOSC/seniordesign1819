{
 "cells": [
  {
   "cell_type": "code",
   "execution_count": 6,
   "metadata": {},
   "outputs": [],
   "source": [
    "import urllib3\n",
    "from bs4 import BeautifulSoup\n",
    "import pandas as pd"
   ]
  },
  {
   "cell_type": "code",
   "execution_count": 7,
   "metadata": {},
   "outputs": [
    {
     "name": "stderr",
     "output_type": "stream",
     "text": [
      "C:\\Users\\Benjamin\\Anaconda3\\lib\\site-packages\\urllib3\\connectionpool.py:857: InsecureRequestWarning: Unverified HTTPS request is being made. Adding certificate verification is strongly advised. See: https://urllib3.readthedocs.io/en/latest/advanced-usage.html#ssl-warnings\n",
      "  InsecureRequestWarning)\n"
     ]
    }
   ],
   "source": [
    "http = urllib3.PoolManager()\n",
    "url = 'https://itmdapps.milwaukee.gov/MPDCallData/'\n",
    "response = http.request('GET', url)\n",
    "\n",
    "soup = BeautifulSoup(response.data, 'lxml')"
   ]
  },
  {
   "cell_type": "code",
   "execution_count": 8,
   "metadata": {},
   "outputs": [],
   "source": [
    "#print(soup)"
   ]
  },
  {
   "cell_type": "markdown",
   "metadata": {},
   "source": [
    "# Columns\n",
    "- Call Number\n",
    "- Date/Time\n",
    "- Location\n",
    "- Police District\n",
    "- Nature of Call\n",
    "- Status"
   ]
  },
  {
   "cell_type": "code",
   "execution_count": 9,
   "metadata": {},
   "outputs": [
    {
     "data": {
      "text/html": [
       "<div>\n",
       "<style scoped>\n",
       "    .dataframe tbody tr th:only-of-type {\n",
       "        vertical-align: middle;\n",
       "    }\n",
       "\n",
       "    .dataframe tbody tr th {\n",
       "        vertical-align: top;\n",
       "    }\n",
       "\n",
       "    .dataframe thead th {\n",
       "        text-align: right;\n",
       "    }\n",
       "</style>\n",
       "<table border=\"1\" class=\"dataframe\">\n",
       "  <thead>\n",
       "    <tr style=\"text-align: right;\">\n",
       "      <th></th>\n",
       "      <th>Call_Number</th>\n",
       "      <th>Datetime</th>\n",
       "      <th>Location</th>\n",
       "      <th>Police_District</th>\n",
       "      <th>Nature_of_Call</th>\n",
       "      <th>Status</th>\n",
       "    </tr>\n",
       "  </thead>\n",
       "  <tbody>\n",
       "    <tr>\n",
       "      <th>40</th>\n",
       "      <td>182460548</td>\n",
       "      <td>09/03/2018 07:59:01 AM</td>\n",
       "      <td>1555 W CHAMBERS ST,MKE</td>\n",
       "      <td>5</td>\n",
       "      <td>THEFT</td>\n",
       "      <td>Unable to Locate Complainant</td>\n",
       "    </tr>\n",
       "    <tr>\n",
       "      <th>41</th>\n",
       "      <td>182460584</td>\n",
       "      <td>09/03/2018 07:56:39 AM</td>\n",
       "      <td>3626 W FOND DU LAC AV,MKE</td>\n",
       "      <td>7</td>\n",
       "      <td>RETURN STATION</td>\n",
       "      <td>Assignment Completed</td>\n",
       "    </tr>\n",
       "    <tr>\n",
       "      <th>42</th>\n",
       "      <td>182460578</td>\n",
       "      <td>09/03/2018 07:50:06 AM</td>\n",
       "      <td>6929 W SILVER SPRING DR,MKE</td>\n",
       "      <td>4</td>\n",
       "      <td>RETURN STATION</td>\n",
       "      <td>Assignment Completed</td>\n",
       "    </tr>\n",
       "    <tr>\n",
       "      <th>43</th>\n",
       "      <td>182460575</td>\n",
       "      <td>09/03/2018 07:48:47 AM</td>\n",
       "      <td>749 W STATE ST,MKE</td>\n",
       "      <td>1</td>\n",
       "      <td>POLICE ADMIN</td>\n",
       "      <td>Service in Progress</td>\n",
       "    </tr>\n",
       "    <tr>\n",
       "      <th>44</th>\n",
       "      <td>182460569</td>\n",
       "      <td>09/03/2018 07:45:01 AM</td>\n",
       "      <td>245 W LINCOLN AV,MKE</td>\n",
       "      <td>2</td>\n",
       "      <td>REPORTS</td>\n",
       "      <td>Service in Progress</td>\n",
       "    </tr>\n",
       "  </tbody>\n",
       "</table>\n",
       "</div>"
      ],
      "text/plain": [
       "   Call_Number                Datetime                     Location  \\\n",
       "40   182460548  09/03/2018 07:59:01 AM       1555 W CHAMBERS ST,MKE   \n",
       "41   182460584  09/03/2018 07:56:39 AM    3626 W FOND DU LAC AV,MKE   \n",
       "42   182460578  09/03/2018 07:50:06 AM  6929 W SILVER SPRING DR,MKE   \n",
       "43   182460575  09/03/2018 07:48:47 AM           749 W STATE ST,MKE   \n",
       "44   182460569  09/03/2018 07:45:01 AM         245 W LINCOLN AV,MKE   \n",
       "\n",
       "   Police_District  Nature_of_Call                        Status  \n",
       "40               5           THEFT  Unable to Locate Complainant  \n",
       "41               7  RETURN STATION          Assignment Completed  \n",
       "42               4  RETURN STATION          Assignment Completed  \n",
       "43               1    POLICE ADMIN           Service in Progress  \n",
       "44               2         REPORTS           Service in Progress  "
      ]
     },
     "execution_count": 9,
     "metadata": {},
     "output_type": "execute_result"
    }
   ],
   "source": [
    "table_cells = soup.find('tbody').find_all('td')\n",
    "column_index = 0\n",
    "\n",
    "Call_Number = []\n",
    "Datetime = []\n",
    "Location = []\n",
    "Police_District = []\n",
    "Nature_of_Call = []\n",
    "Status = []\n",
    "\n",
    "data = {0 : Call_Number, 1 : Datetime, 2 : Location, 3 : Police_District, \n",
    "         4 : Nature_of_Call, 5 : Status}\n",
    "\n",
    "for table_cell in table_cells:\n",
    "    \n",
    "    strings_to_replace = [r'''<td style=\"border: 1px solid black; border-collapse: collapse;\">''',r\"</td>\",r'''<td style=\"border: 1px solid black; border-collapse: collapse; text-align: center;\">''']\n",
    "    for string in strings_to_replace:\n",
    "        table_cell = str(table_cell)\n",
    "        table_cell = table_cell.replace(string, '')\n",
    "        \n",
    "    data[column_index].append(table_cell)\n",
    "    \n",
    "    column_index += 1\n",
    "    if column_index == len(data):\n",
    "        column_index = 0\n",
    "        \n",
    "df = pd.DataFrame.from_dict(data)\n",
    "df.columns = ['Call_Number','Datetime','Location','Police_District','Nature_of_Call','Status']\n",
    "\n",
    "df.tail(5)"
   ]
  },
  {
   "cell_type": "code",
   "execution_count": 10,
   "metadata": {},
   "outputs": [],
   "source": [
    "df.to_csv('MKE_Dispatched_Calls', mode='a', header=False)"
   ]
  },
  {
   "cell_type": "code",
   "execution_count": null,
   "metadata": {},
   "outputs": [],
   "source": []
  }
 ],
 "metadata": {
  "kernelspec": {
   "display_name": "Python [conda env:Anaconda3]",
   "language": "python",
   "name": "conda-env-Anaconda3-py"
  },
  "language_info": {
   "codemirror_mode": {
    "name": "ipython",
    "version": 3
   },
   "file_extension": ".py",
   "mimetype": "text/x-python",
   "name": "python",
   "nbconvert_exporter": "python",
   "pygments_lexer": "ipython3",
   "version": "3.5.5"
  }
 },
 "nbformat": 4,
 "nbformat_minor": 2
}
